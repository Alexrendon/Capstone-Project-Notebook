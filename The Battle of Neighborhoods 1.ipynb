{
 "cells": [
  {
   "cell_type": "markdown",
   "metadata": {},
   "source": [
    "# How to Choose the Best Location for Your Medical Practice"
   ]
  },
  {
   "cell_type": "markdown",
   "metadata": {},
   "source": [
    "<h2>Table of contents</h2>\n",
    "\n",
    "<div class=\"alert alert-block alert-info\" style=\"margin-top: 20px\">\n",
    "    <ul>\n",
    "        <li><a href=\"#Introduction\">Introduction</a></li>\n",
    "        <li><a href=\"#Objetive\">Objetive</a></li>  \n",
    "        <li><a href=\"#Background and significance\">Background and significance</a></li> \n",
    "         <ol>\n",
    "                <li><a href=\"#Healthcare System in Mexico\">Healthcare System in Mexico</a></li>\n",
    "                <li><a href=\"#How patients choose their practitioner\">How patients choose their practitioner</a></li>\n",
    "            </ol>\n",
    "        <li><a href=\"#Design research and Methods\">Design research and Methods</a></li> \n",
    "            <ol>\n",
    "                <li><a href=\"#pre_processing\">Pre-processing</a></li>\n",
    "                <li><a href=\"#modeling\">Modeling</a></li>\n",
    "                <li><a href=\"#insights\">Insights</a></li>\n",
    "            </ol>\n",
    "    </ul>\n",
    "</div>\n",
    "<br>\n",
    "<hr>"
   ]
  },
  {
   "cell_type": "markdown",
   "metadata": {},
   "source": [
    "## Introduction\n",
    "\n",
    "When it comes to purchasing a home or investment property, it’s all about **location, location, location**. The same rule applies when you’re looking to buy or rent a space for your medical practice.\n",
    "According to a July 2014 report by The Associated Press-NORC Center for Public Affairs Research, 50 percent of patients consider the location of medical practice when choosing a doctor. Another report similarly found that 70 percent of healthcare consumers deem location either critical or very important when selecting a provider or healthcare system."
   ]
  },
  {
   "cell_type": "markdown",
   "metadata": {},
   "source": [
    "## Objective \n",
    "\n",
    "The aim of this project is **find an optimal location for a Medical practice**. For most of Healthcare Professionals (HPC) is it always a headache find a suitable place to open practice or even change the actual facility location.   Scope of this project is help HCPs which Neighborhoods in **Queretaro city, México** are best suited for their business. Location of the facility will have a significant impact on the practice outcome, (adjacent and nearby shops and offices) play a very important role in building a positive early impression of the clinic.\n",
    "We will use our data science techniques to detect the most promising neighborhoods based on criteria selected in background section. Advantages of each area will then be clearly expressed so that best possible final location can be chosen by stakeholders.\n",
    "\n",
    "## Background and significance\n",
    "\n",
    "### Healthcare System in Mexico \n",
    "\n",
    "Mexico has achieved universal health coverage and its public healthcare is acceptable for most Mexican residents. Despite this, the private healthcare sector has grown considerably and is driven by increasing disposable income, the growth of medical tourism, and ease of access to higher quality private healthcare services.\n",
    "Mexico’s public healthcare operates through the Instituto Mexicano de Seguro Social (IMSS)  and Seguro Popular systems. These cover  patients for most medical services and prescription drugs. Those employed in Mexico are automatically enrolled in the IMSS system and their contribution to the scheme is deducted from their salary. Those who are not formally employed may voluntarily enrol in the IMSS system, in which case they will have to pay an annual contribution fee. People who cannot afford the IMSS system must enrol with the Seguro Popular system. Fees for the Seguro Popular system are charged on a sliding scale depending on a resident’s income. While public healthcare in Mexico is relatively good, the quality of services varies between hospitals. \n",
    "Most mexicans above mid income opt for private health care, which they finance through private health insurance. Although private hospitals are more expensive, they are better equipped, provide greater access to specialised procedures and generally provide higher quality care.\n",
    "\n",
    "### How patients choose their practitioner \n",
    "\n",
    "How Long and How Far Do Adults Travel and Will Adults Travel for Primary Care?  Accordingly to Washington State Health Services adults are willing spend 28.4 minutes and travel a distance of 32 kilometers (1). This info will be taken in account to set the parameters.\n",
    "Since there are lots of HCPs  in Queretaro we will try to detect locations that fulfill the next 5 points:\n",
    "\n",
    "1. Demographics \n",
    "\n",
    "We need to define our demographic data such as population age, net income, education. \n",
    "We also have to consider whether or not the population is growing or declining, age is a demographic trait that can have several financial impacts on the doctor's office.– it is usually easier to break into newer communities than mature communities where you would have to take patients away from practitioners who have been in the area many years.\n",
    "Another aspect to take into account is the economic level of the population. An area with a high rate of low-income residents will likely have more patients going to social security than doctors in the private sector.\n",
    "\n",
    "2. Accessibility\n",
    "\n",
    "The location choose for the medical practice must be accessible and convenient for patients. For example, a good rule of thumb is to choose a location within 20 minutes of the residential area you hope to serve.\n",
    "\n",
    "When comparing locations, consider the availability and amount of parking. Free parking is always preferable. And aim for a location with a spacious entryway where elderly, injured or disabled patients can be dropped off and picked up without difficulty.\n",
    "\n",
    "3.Competition\n",
    "\n",
    "We need to determine how many providers are in the area, how big their practices are, and what their specialties are.\n",
    "Finding a space that’s well-known as site for medical practitioners can work to our advantage since people are accustomed to traveling there. “It’s a lot easier to tap into an existing behavior than to create a behavior all by itself.”\n",
    "\n",
    "4. Visibility\n",
    "A location in a remote part of town might seem cost-effective, but having low visibility will mean spending more money on marketing to get patients in the door. “Think about marketing costs as part of the rent equation.”\n",
    "A medical office that’s located on a major road or thoroughfare, or in a busy shopping center, can give you maximum visibility. \n",
    "\n",
    "5. Nearby Hospitals, Pharmacies and other business\n",
    "\n",
    "Speaking of proximity to other businesses, medical practices benefit from operating close to places such as:\n",
    "-Pharmacies & drug stores\n",
    "-Hospitals\n",
    "-Urgent care centers\n",
    "-Fitness centers\n",
    "Beyond the obvious convenience of locating close to the hospital, the clinic also will benefit from the patient perception that is located in a recognized healthcare area.\n",
    "Let's think where are popular businesses, such as supermarkets and banks? The more popular businesses attract more potential clients. Also, upscale businesses attract upscale clients – think Starbucks.\n",
    "\n",
    "\n",
    "## Design research and Methods\n",
    "\n",
    "Based on definition of our problem, factors that will influence our decision are:\n",
    "\n",
    "Demographics: Age and income.\n",
    "Accessibility: Radius of 32 km from city center.\n",
    "Competition: Number of proximity clinics.\n",
    "Visibility: Proximity to principal avenues and from city center\n",
    "Nearby Hospitals, Pharmacies and other business: Hospitals, pharmacies, restaurants, coffee shops, will be taken in account.\n",
    "\n",
    "\n",
    "Following data sources will be needed to extract/generate the required information:\n",
    "-Centers of candidate areas will be generated algorithmically and approximate addresses of centers of those areas will be obtained using https://github.com/marioalbertodev/colonias-queretaro/blob/master/colonias.json\n",
    "-Demographics will be obtained using INEGI (National Institute of Statistics and Geography) https://www.inegi.org.mx/app/indicadores/?t=0200&ag=22#D02000070. y en https://www.inegi.org.mx/programas/enigh/nc/2018/default.html. \n",
    "-Number of Practices, Hospitals, pharmacies, restaurants, coffee shops, and their type and location in every neighborhood will be obtained using Foursquare API.\n",
    "\n"
   ]
  },
  {
   "cell_type": "markdown",
   "metadata": {},
   "source": [
    "### Import libraries\n",
    "Lets first import the required libraries.\n",
    "Also run <b> %matplotlib inline </b> since we will be plotting in this section."
   ]
  },
  {
   "cell_type": "code",
   "execution_count": null,
   "metadata": {},
   "outputs": [],
   "source": []
  },
  {
   "cell_type": "code",
   "execution_count": null,
   "metadata": {},
   "outputs": [],
   "source": []
  },
  {
   "cell_type": "code",
   "execution_count": null,
   "metadata": {},
   "outputs": [],
   "source": []
  },
  {
   "cell_type": "code",
   "execution_count": null,
   "metadata": {},
   "outputs": [],
   "source": []
  },
  {
   "cell_type": "code",
   "execution_count": null,
   "metadata": {},
   "outputs": [],
   "source": []
  }
 ],
 "metadata": {
  "kernelspec": {
   "display_name": "Python 3",
   "language": "python",
   "name": "python3"
  },
  "language_info": {
   "codemirror_mode": {
    "name": "ipython",
    "version": 3
   },
   "file_extension": ".py",
   "mimetype": "text/x-python",
   "name": "python",
   "nbconvert_exporter": "python",
   "pygments_lexer": "ipython3",
   "version": "3.7.6"
  }
 },
 "nbformat": 4,
 "nbformat_minor": 4
}
